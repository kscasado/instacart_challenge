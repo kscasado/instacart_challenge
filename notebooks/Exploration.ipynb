{
 "cells": [
  {
   "cell_type": "code",
   "execution_count": 10,
   "metadata": {},
   "outputs": [],
   "source": [
    "%matplotlib inline\n",
    "import pandas as pd\n",
    "import numpy as np\n",
    "import seaborn as sns\n",
    "sns.set()\n",
    "\n",
    "data_dir = '../data/'\n"
   ]
  },
  {
   "cell_type": "code",
   "execution_count": 5,
   "metadata": {},
   "outputs": [
    {
     "name": "stdout",
     "output_type": "stream",
     "text": [
      "loading prior orders\n",
      "loading orders\n",
      "loading aisles info\n"
     ]
    }
   ],
   "source": [
    "print('loading prior orders')\n",
    "prior_orders = pd.read_csv(data_dir + 'order_products__prior.csv', dtype={\n",
    "        'order_id': np.int32,\n",
    "        'product_id': np.int32,\n",
    "        'add_to_cart_order': np.int16,\n",
    "        'reordered': np.int8})\n",
    "print('loading orders')\n",
    "orders = pd.read_csv(data_dir + 'orders.csv', dtype={\n",
    "        'order_id': np.int32,\n",
    "        'user_id': np.int32,\n",
    "        'eval_set': 'category',\n",
    "        'order_number': np.int16,\n",
    "        'order_dow': np.int8,\n",
    "        'order_hour_of_day': np.int8,\n",
    "        'days_since_prior_order': np.float32})\n",
    "print('loading aisles info')\n",
    "aisles = pd.read_csv(data_dir + 'products.csv', engine='c',\n",
    "                           usecols = ['product_id','aisle_id'],\n",
    "                       dtype={'product_id': np.int32, 'aisle_id': np.int32})\n",
    "pd.set_option('display.float_format', lambda x: '%.3f' % x)"
   ]
  },
  {
   "cell_type": "markdown",
   "metadata": {},
   "source": [
    "Get prior order buckets"
   ]
  },
  {
   "cell_type": "code",
   "execution_count": 14,
   "metadata": {},
   "outputs": [],
   "source": [
    "num_orders = prior_orders.groupby('product_id').order_id.count()"
   ]
  },
  {
   "cell_type": "markdown",
   "metadata": {},
   "source": [
    "plot iqr of orders by product_id"
   ]
  },
  {
   "cell_type": "code",
   "execution_count": 23,
   "metadata": {},
   "outputs": [
    {
     "data": {
      "text/plain": [
       "<matplotlib.axes._subplots.AxesSubplot at 0x7fb4ec262128>"
      ]
     },
     "execution_count": 23,
     "metadata": {},
     "output_type": "execute_result"
    },
    {
     "data": {
      "image/png": "[encoded data removed]",
      "text/plain": [
       "<matplotlib.figure.Figure at 0x7fb445171160>"
      ]
     },
     "metadata": {},
     "output_type": "display_data"
    }
   ],
   "source": [
    "num_orders.describe()\n",
    "iqr = num_orders.quantile([.25,.75]).values\n",
    "sns.distplot(num_orders.apply(lambda x: x if (x>iqr[0] and x<iqr[1]) else None).dropna())"
   ]
  },
  {
   "cell_type": "markdown",
   "metadata": {},
   "source": [
    "Look at reorder rate"
   ]
  },
  {
   "cell_type": "code",
   "execution_count": 47,
   "metadata": {},
   "outputs": [
    {
     "name": "stdout",
     "output_type": "stream",
     "text": [
      "0.000    388513\n",
      "2.000    330770\n",
      "1.000    327898\n",
      "3.000    312493\n",
      "4.000    281704\n",
      "5.000    246626\n",
      "Name: reordered, dtype: int64\n"
     ]
    }
   ],
   "source": [
    "## first drop all orders that have no reorder items, assuming this might be the first order or just are not typical\n",
    "reorder_rate = prior_orders.groupby('order_id').reordered.sum()\n",
    "# Look at top 5 \n",
    "print(reorder_rate.value_counts()[:5])\n",
    "reorder_rate = reorder_rate.to_frame()"
   ]
  },
  {
   "cell_type": "code",
   "execution_count": 48,
   "metadata": {},
   "outputs": [
    {
     "data": {
      "text/plain": [
       "count    49612.000\n",
       "mean       385.522\n",
       "std       3604.045\n",
       "min          0.000\n",
       "25%          4.000\n",
       "50%         22.000\n",
       "75%        116.000\n",
       "max     398609.000\n",
       "Name: reordered, dtype: float64"
      ]
     },
     "execution_count": 48,
     "metadata": {},
     "output_type": "execute_result"
    }
   ],
   "source": [
    "index_list = reorder_rate[reorder_rate['reordered']==0].index\n",
    "reorder_rate = prior_orders[~prior_orders['order_id'].isin(index_list)]\n",
    "reorder_rate = reorder_rate.groupby('product_id').reordered.sum()\n",
    "reorder_rate.describe()"
   ]
  },
  {
   "cell_type": "markdown",
   "metadata": {},
   "source": [
    "Drop IQR again\n"
   ]
  },
  {
   "cell_type": "code",
   "execution_count": null,
   "metadata": {
    "collapsed": true
   },
   "outputs": [],
   "source": [
    "iqr = reorder_rate.quartile([.25,.75]).values\n",
    "sns.distplot(reorder_rate.apply(lambda x: x if (x>iqr[0] and )))"
   ]
  }
 ],
 "metadata": {
  "anaconda-cloud": {},
  "kernelspec": {
   "display_name": "Python [default]",
   "language": "python",
   "name": "python3"
  },
  "language_info": {
   "codemirror_mode": {
    "name": "ipython",
    "version": 3
   },
   "file_extension": ".py",
   "mimetype": "text/x-python",
   "name": "python",
   "nbconvert_exporter": "python",
   "pygments_lexer": "ipython3",
   "version": "3.5.2"
  }
 },
 "nbformat": 4,
 "nbformat_minor": 2
}
